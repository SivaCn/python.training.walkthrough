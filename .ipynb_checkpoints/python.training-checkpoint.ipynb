{
 "cells": [
  {
   "cell_type": "markdown",
   "metadata": {},
   "source": [
    "# Python - Overview"
   ]
  },
  {
   "cell_type": "markdown",
   "metadata": {},
   "source": [
    "* Python is High-level\n",
    "* Python is Interpreted\n",
    "* Python is Interactive\n",
    "* Python is Object-Oriented"
   ]
  },
  {
   "cell_type": "markdown",
   "metadata": {},
   "source": [
    "# Python Features"
   ]
  },
  {
   "cell_type": "markdown",
   "metadata": {},
   "source": [
    "* Easy-to-learn\n",
    "* Easy-to-read\n",
    "* Easy-to-maintain\n",
    "* A broad standard library\n",
    "* Interactive Mode\n",
    "* Portable\n",
    "* Extendable\n",
    "* Databases\n",
    "* GUI Programming\n",
    "* Scalable"
   ]
  },
  {
   "cell_type": "code",
   "execution_count": null,
   "metadata": {},
   "outputs": [],
   "source": [
    "$ python\n",
    "Python 2.7.5 (default, Aug  4 2017, 00:39:18) \n",
    "[GCC 4.8.5 20150623 (Red Hat 4.8.5-16)] on linux2\n",
    "Type \"help\", \"copyright\", \"credits\" or \"license\" for more information.\n",
    ">>> "
   ]
  },
  {
   "cell_type": "code",
   "execution_count": 1,
   "metadata": {},
   "outputs": [
    {
     "name": "stdout",
     "output_type": "stream",
     "text": [
      "Hello, Python!\n"
     ]
    }
   ],
   "source": [
    "print \"Hello, Python!\""
   ]
  },
  {
   "cell_type": "markdown",
   "metadata": {},
   "source": [
    "Let us create a script file named my_script.py, which has the following snippet"
   ]
  },
  {
   "cell_type": "code",
   "execution_count": null,
   "metadata": {},
   "outputs": [],
   "source": [
    "#!/usr/bin/python\n",
    "\n",
    "print \"Hello, Python!\""
   ]
  },
  {
   "cell_type": "markdown",
   "metadata": {},
   "source": [
    "We can run the script as follows"
   ]
  },
  {
   "cell_type": "markdown",
   "metadata": {},
   "source": [
    "$ python my_script.py<br>\n",
    "Hello, Python!"
   ]
  },
  {
   "cell_type": "markdown",
   "metadata": {},
   "source": [
    "And make the my_script.py executable"
   ]
  },
  {
   "cell_type": "code",
   "execution_count": null,
   "metadata": {},
   "outputs": [],
   "source": [
    "$ chmod +x test.py     # This is to make file executable\n",
    "$./test.py"
   ]
  },
  {
   "cell_type": "markdown",
   "metadata": {},
   "source": [
    "# Assuming that audiance has knowledge on"
   ]
  },
  {
   "cell_type": "markdown",
   "metadata": {},
   "source": [
    "* Python Identifiers\n",
    "* Reserved Words\n",
    "* Lines and Indentation\n",
    "* Multi-Line Statements\n",
    "* Quotation in Python\n",
    "* Comments in Python"
   ]
  },
  {
   "cell_type": "markdown",
   "metadata": {},
   "source": [
    "# Assignments"
   ]
  },
  {
   "cell_type": "code",
   "execution_count": null,
   "metadata": {},
   "outputs": [],
   "source": [
    "counter = 100          # An integer assignment\n",
    "miles   = 1000.0       # A floating point\n",
    "name    = \"John\"       # A string\n",
    "\n",
    "list()\n",
    "tuple()\n",
    "dict()\n",
    "\n",
    "set()\n",
    "#iterator\n",
    "#generator"
   ]
  },
  {
   "cell_type": "code",
   "execution_count": 49,
   "metadata": {},
   "outputs": [],
   "source": [
    "# Pre-Requisites\n",
    "from collections import namedtuple, OrderedDict, defaultdict\n",
    "from pprint import pprint as pp"
   ]
  },
  {
   "cell_type": "markdown",
   "metadata": {},
   "source": [
    "# How python understands the Scope and variables"
   ]
  },
  {
   "cell_type": "code",
   "execution_count": null,
   "metadata": {},
   "outputs": [],
   "source": [
    "globals()  # with variables\n",
    "locals()  # with variables\n",
    "\n",
    "# Explain __getitem__"
   ]
  },
  {
   "cell_type": "markdown",
   "metadata": {},
   "source": [
    "### Tricks on list"
   ]
  },
  {
   "cell_type": "code",
   "execution_count": 43,
   "metadata": {},
   "outputs": [
    {
     "name": "stdout",
     "output_type": "stream",
     "text": [
      "1\n",
      "2\n",
      "3\n",
      "2\n",
      "[1, 2, 3] 50668536\n",
      "[1, 2, 3] 39435944\n",
      "Whole: [1, 2, 3, 4, 5, 6, 7, 8, 9]\n",
      "items at Odd indices: [2, 4, 6, 8]\n",
      "items at Even indices: [1, 3, 5, 7, 9]\n"
     ]
    }
   ],
   "source": [
    "a = []  # using notation\n",
    "a = list()  # using in-built function, mainly we use for casting\n",
    "\n",
    "a, b = [1, 2]\n",
    "c, d = (3, 'fsdg')\n",
    "\n",
    "b = [1, 2, 3]\n",
    "print b[0]\n",
    "print b[1]\n",
    "print b[-1]  # Negative indices\n",
    "# print b[4]\n",
    "\n",
    "print b.__getitem__(1)\n",
    "\n",
    "# list slicing [INCLUSIVE:EXCLUSIVE]\n",
    "print b, id(b)\n",
    "b1 = b[:]\n",
    "print b1, id(b1)\n",
    "\n",
    "# Stepping and reversing\n",
    "# Stepping [::2]\n",
    "# reversing [::-1]\n",
    "# reversing stepping [::-2]\n",
    "\n",
    "# comphrehension\n",
    "c = [e for e in range(1, 10)]\n",
    "print 'Whole:', c\n",
    "print 'items at Odd indices:', [e for idx, e in enumerate(c) if idx % 2]\n",
    "print 'items at Even indices:', [e for idx, e in enumerate(c) if not idx % 2]"
   ]
  },
  {
   "cell_type": "markdown",
   "metadata": {},
   "source": [
    "### Tricks on tuple"
   ]
  },
  {
   "cell_type": "code",
   "execution_count": 51,
   "metadata": {
    "scrolled": true
   },
   "outputs": [
    {
     "name": "stdout",
     "output_type": "stream",
     "text": [
      "1\n",
      "2\n",
      "3\n",
      "2\n",
      "(1, 2, 3) 43988544\n",
      "(1, 2, 3) 43988544\n",
      "NamedTupleClass(attr1=100, attr2=300)\n",
      "[NamedTupleClass(attr1=0, attr2=0),\n",
      " NamedTupleClass(attr1=1, attr2=1),\n",
      " NamedTupleClass(attr1=2, attr2=4),\n",
      " NamedTupleClass(attr1=3, attr2=9),\n",
      " NamedTupleClass(attr1=4, attr2=16),\n",
      " NamedTupleClass(attr1=5, attr2=25),\n",
      " NamedTupleClass(attr1=6, attr2=36),\n",
      " NamedTupleClass(attr1=7, attr2=49),\n",
      " NamedTupleClass(attr1=8, attr2=64),\n",
      " NamedTupleClass(attr1=9, attr2=81)]\n"
     ]
    }
   ],
   "source": [
    "a = ()  # using notation\n",
    "a = tuple()  # using in-built function, mainly we use for casting\n",
    "\n",
    "b = (1, 2, 3, )\n",
    "print b[0]\n",
    "print b[1]\n",
    "print b[-1]  # Negative indices\n",
    "# print b[4]\n",
    "\n",
    "print b.__getitem__(1)\n",
    "\n",
    "# list slicing [INCLUSIVE:EXCLUSIVE]\n",
    "print b, id(b)\n",
    "b1 = b[:]\n",
    "print b1, id(b1)\n",
    "\n",
    "# Stepping and reversing\n",
    "# Stepping [::2]\n",
    "# reversing [::-1]\n",
    "# reversing stepping [::-2]\n",
    "\n",
    "# comphrehension - Not possible will never output as tuple\n",
    "\n",
    "from collections import namedtuple\n",
    "\n",
    "NamedTupleClass = namedtuple('NamedTupleClass', 'attr1, attr2')\n",
    "\n",
    "ntc_obj_1 = NamedTupleClass(attr1=100, attr2=300)\n",
    "\n",
    "print ntc_obj_1\n",
    "\n",
    "n_c = list()\n",
    "for attr1, attr2 in enumerate(range(10)):\n",
    "    n_c.append(NamedTupleClass(attr1=attr1, attr2=attr2 * attr2))\n",
    "\n",
    "pp(n_c)"
   ]
  },
  {
   "cell_type": "markdown",
   "metadata": {},
   "source": [
    "### Tricks on str"
   ]
  },
  {
   "cell_type": "code",
   "execution_count": 12,
   "metadata": {},
   "outputs": [
    {
     "name": "stdout",
     "output_type": "stream",
     "text": [
      "some string\n",
      "m\n",
      "me st\n",
      "Hello Mr.John\n",
      "Hello Mr.John\n",
      "I'm john, from Paris\n",
      "Hello Adam, your balance is 230.2346.\n",
      "Hello Adam, your balance is 230.2346.\n",
      "Hello Adam, your balance is 230.2346.\n",
      "Hello Adam, your balance is 230.2346.\n",
      "   12\n",
      "1234\n",
      "  12.235\n",
      "00012\n",
      "0012.235\n",
      "Adam's age is: 23\n"
     ]
    }
   ],
   "source": [
    "#string format\n",
    "\n",
    "s = 'some string'\n",
    "print s\n",
    "print s[2]\n",
    "print s[2:7]\n",
    "\n",
    "#s[2] = 'a'\n",
    "\n",
    "s1 = \"Hello Mr.John\"\n",
    "print s1\n",
    "\n",
    "s2 = \"Hello Mr.{}\"\n",
    "print s2.format(\"John\")\n",
    "\n",
    "s3 = \"I'm {1}, from {0}\"\n",
    "print s3.format(\"Paris\", \"john\")\n",
    "\n",
    "# default arguments\n",
    "print(\"Hello {}, your balance is {}.\".format(\"Adam\", 230.2346))\n",
    "\n",
    "# positional arguments\n",
    "print(\"Hello {0}, your balance is {1}.\".format(\"Adam\", 230.2346))\n",
    "\n",
    "# keyword arguments\n",
    "print(\"Hello {name}, your balance is {blc}.\".format(name=\"Adam\", blc=230.2346))\n",
    "\n",
    "# mixed arguments\n",
    "print(\"Hello {0}, your balance is {blc}.\".format(\"Adam\", blc=230.2346))\n",
    "\n",
    "# integer numbers with minimum width\n",
    "print(\"{:5d}\".format(12))\n",
    "\n",
    "# width doesn't work for numbers longer than padding\n",
    "print(\"{:2d}\".format(1234))\n",
    "\n",
    "# padding for float numbers\n",
    "print(\"{:8.3f}\".format(12.2346))\n",
    "\n",
    "# integer numbers with minimum width filled with zeros\n",
    "print(\"{:05d}\".format(12))\n",
    "\n",
    "# padding for float numbers filled with zeros\n",
    "print(\"{:08.3f}\".format(12.2346))\n",
    "\n",
    "# define Person class\n",
    "class Person:\n",
    "    age = 23\n",
    "    name = \"Adam\"\n",
    "\n",
    "# format age\n",
    "print(\"{p.name}'s age is: {p.age}\".format(p=Person()))"
   ]
  },
  {
   "cell_type": "markdown",
   "metadata": {},
   "source": [
    "### Tricks on Dict"
   ]
  },
  {
   "cell_type": "code",
   "execution_count": 44,
   "metadata": {},
   "outputs": [
    {
     "name": "stdout",
     "output_type": "stream",
     "text": [
      "{'a': 100, 'b': 200}\n",
      "{'a': 100, 'b': 200}\n",
      "['a', 'b']\n",
      "[100, 200]\n",
      "{'a': 100, 'c': 300, 'b': 200}\n",
      "{'a': 101, 'c': 300, 'b': 200}\n",
      "{}\n",
      "{}\n",
      "101\n",
      "No Such key exist\n",
      "100\n",
      "[]\n",
      "defaultdict(<function <lambda> at 0x314ef50>, {'a': 101, 'c': 300, 'b': 200})\n",
      "I'm default\n",
      "OrderedDict([('a', 100), ('1', 100), ('01', 100), ('#', 100), ('-', 100)])\n",
      "True\n",
      "a\n",
      "2\n",
      "c\n",
      "b\n",
      "('a', 101)\n",
      "('2', \"I'm default\")\n",
      "('c', 300)\n",
      "('b', 200)\n",
      "a --> 101\n",
      "2 --> I'm default\n",
      "c --> 300\n",
      "b --> 200\n"
     ]
    }
   ],
   "source": [
    "d = {} or dict()\n",
    "\n",
    "d= {\n",
    "    'a': 100,\n",
    "    'b': 200\n",
    "}\n",
    "print d\n",
    "\n",
    "d = dict(a=100, b=200)\n",
    "print d\n",
    "\n",
    "print d.keys()\n",
    "print d.values()\n",
    "\n",
    "d.update({'c': 300})\n",
    "print d\n",
    "\n",
    "d.update({'a': 101})\n",
    "print d\n",
    "\n",
    "d1 = d\n",
    "from copy import deepcopy\n",
    "d2 = deepcopy(d)\n",
    "\n",
    "d.clear()\n",
    "print d\n",
    "print d1\n",
    "\n",
    "print d2['a']\n",
    "#print d2['f']\n",
    "\n",
    "print d2.get('f', 'No Such key exist')\n",
    "\n",
    "from collections import defaultdict\n",
    "\n",
    "_d = [('a', 100), ('b', 200)]\n",
    "d3 = defaultdict(list, _d)\n",
    "\n",
    "print d3['a']\n",
    "print d3['asdf']\n",
    "\n",
    "def defaults():\n",
    "    return 'Key Does not Exist'\n",
    "\n",
    "d4 = defaultdict(lambda: \"I'm default\", d2)\n",
    "\n",
    "print d4\n",
    "print d4['2']\n",
    "\n",
    "from collections import OrderedDict\n",
    "d5 = OrderedDict()\n",
    "\n",
    "d5['a'] = 100\n",
    "d5['1'] = 100\n",
    "d5['01'] = 100\n",
    "d5['#'] = 100\n",
    "d5['-'] = 100\n",
    "\n",
    "print d5\n",
    "\n",
    "print '#' in d5\n",
    "\n",
    "for key in d4:\n",
    "    print key\n",
    "    \n",
    "for each_item in d4.items():\n",
    "    print each_item\n",
    "\n",
    "for key, value in d4.items():\n",
    "    print key, '-->', value"
   ]
  },
  {
   "cell_type": "markdown",
   "metadata": {},
   "source": [
    "### Control Statements"
   ]
  },
  {
   "cell_type": "code",
   "execution_count": 20,
   "metadata": {},
   "outputs": [
    {
     "name": "stdout",
     "output_type": "stream",
     "text": [
      "YES\n",
      "['ODD', 'EVEN', 'ODD', 'EVEN', 'ODD', 'EVEN', 'ODD', 'EVEN', 'ODD']\n",
      "[0, 1, 2, 3, 4, 5, 6, 7, 8, 9]\n",
      "[1, 2, 3, 4, 5, 6, 7, 8, 9]\n",
      "[2, 3, 4, 5, 6, 7, 8, 9]\n",
      "[3, 4, 5, 6, 7, 8, 9]\n",
      "[4, 5, 6, 7, 8, 9]\n",
      "[5, 6, 7, 8, 9]\n",
      "[6, 7, 8, 9]\n",
      "[7, 8, 9]\n",
      "[8, 9]\n",
      "[9]\n",
      "EXHAUSTED\n"
     ]
    }
   ],
   "source": [
    "# in-line if statements\n",
    "print 'YES' if True else 'NO'\n",
    "\n",
    "print ['ODD' if item % 2 else 'EVEN' for item in range(1, 10)]\n",
    "\n",
    "# pass, break and continue statements\n",
    "\n",
    "# Looping structures with else clause\n",
    "t = range(10)\n",
    "while t:\n",
    "    print t\n",
    "    t = t[1:]\n",
    "    #if len(t) == 1:\n",
    "    #    break\n",
    "else:\n",
    "    print 'EXHAUSTED'"
   ]
  },
  {
   "cell_type": "markdown",
   "metadata": {},
   "source": [
    "# Error Handling"
   ]
  },
  {
   "cell_type": "code",
   "execution_count": null,
   "metadata": {},
   "outputs": [],
   "source": []
  }
 ],
 "metadata": {
  "kernelspec": {
   "display_name": "Python 2",
   "language": "python",
   "name": "python2"
  },
  "language_info": {
   "codemirror_mode": {
    "name": "ipython",
    "version": 2
   },
   "file_extension": ".py",
   "mimetype": "text/x-python",
   "name": "python",
   "nbconvert_exporter": "python",
   "pygments_lexer": "ipython2",
   "version": "2.7.5"
  }
 },
 "nbformat": 4,
 "nbformat_minor": 2
}
