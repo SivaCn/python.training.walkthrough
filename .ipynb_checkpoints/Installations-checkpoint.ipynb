{
 "cells": [
  {
   "cell_type": "markdown",
   "metadata": {},
   "source": [
    "# Preparations – install prerequisites (On Arch Linux)"
   ]
  },
  {
   "cell_type": "code",
   "execution_count": null,
   "metadata": {},
   "outputs": [],
   "source": [
    "# yum groupinstall \"Development tools\"\n",
    "# yum install zlib-devel bzip2-devel openssl-devel ncurses-devel sqlite-devel\n",
    "# yum install readline-devel tk-devel gdbm-devel db4-devel libpcap-devel xz-devel"
   ]
  },
  {
   "cell_type": "markdown",
   "metadata": {},
   "source": [
    "## Download, compile and install Python"
   ]
  },
  {
   "cell_type": "code",
   "execution_count": null,
   "metadata": {},
   "outputs": [],
   "source": [
    "Python 2.7.6:\n",
    "    wget http://python.org/ftp/python/2.7.6/Python-2.7.6.tar.xz\n",
    "    tar xf Python-2.7.6.tar.xz\n",
    "    cd Python-2.7.6\n",
    "    ./configure --prefix=/usr/local --enable-unicode=ucs4 --enable-shared LDFLAGS=\"-Wl,-rpath /usr/local/lib\"\n",
    "    make && make altinstall\n",
    "     \n",
    "Python 3.3.5:\n",
    "    wget http://python.org/ftp/python/3.3.5/Python-3.3.5.tar.xz\n",
    "    tar xf Python-3.3.5.tar.xz\n",
    "    cd Python-3.3.5\n",
    "    ./configure --prefix=/usr/local --enable-shared LDFLAGS=\"-Wl,-rpath /usr/local/lib\"\n",
    "    make && make altinstall"
   ]
  },
  {
   "cell_type": "markdown",
   "metadata": {},
   "source": [
    "# Download and install Setuptools + pip"
   ]
  },
  {
   "cell_type": "code",
   "execution_count": null,
   "metadata": {},
   "outputs": [],
   "source": [
    "# First get the setup script for Setuptools:\n",
    "wget https://bitbucket.org/pypa/setuptools/raw/bootstrap/ez_setup.py\n",
    "     \n",
    "# Then install it for Python 2.7 and/or Python 3.3:\n",
    "python2.7 ez_setup.py\n",
    "python3.3 ez_setup.py\n",
    "     \n",
    "# Now install pip using the newly installed setuptools:\n",
    "easy_install-2.7 pip\n",
    "easy_install-3.3 pip\n",
    "     \n",
    "# With pip installed you can now do things like this:\n",
    "pip2.7 install [packagename]\n",
    "pip2.7 install --upgrade [packagename]\n",
    "pip2.7 uninstall [packagename]"
   ]
  },
  {
   "cell_type": "markdown",
   "metadata": {},
   "source": [
    "# Create your first isolated Python environment (Virtualenv)"
   ]
  },
  {
   "cell_type": "code",
   "execution_count": null,
   "metadata": {},
   "outputs": [],
   "source": [
    "# Install virtualenv for Python 2.7 and create a sandbox called my27project:\n",
    "pip2.7 install virtualenv\n",
    "virtualenv-2.7 my27project\n",
    "\n",
    "# Activate the my27project sandbox and check the version of the default Python interpreter in it:\n",
    "source my27project/bin/activate\n",
    "python --version\n",
    "# This will show Python 2.7.6\n",
    "deactivate\n",
    "\n",
    "# Activate the my33project sandbox and check the version of the default Python interpreter in it:\n",
    "source my33project/bin/activate\n",
    "python --version\n",
    "# This will show Python 3.3.5\n",
    "deactivate"
   ]
  }
 ],
 "metadata": {
  "kernelspec": {
   "display_name": "Python 2",
   "language": "python",
   "name": "python2"
  },
  "language_info": {
   "codemirror_mode": {
    "name": "ipython",
    "version": 2
   },
   "file_extension": ".py",
   "mimetype": "text/x-python",
   "name": "python",
   "nbconvert_exporter": "python",
   "pygments_lexer": "ipython2",
   "version": "2.7.5"
  }
 },
 "nbformat": 4,
 "nbformat_minor": 2
}
