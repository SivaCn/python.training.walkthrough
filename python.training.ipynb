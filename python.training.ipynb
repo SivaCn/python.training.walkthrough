{
 "cells": [
  {
   "cell_type": "markdown",
   "metadata": {},
   "source": [
    "# Python - Overview"
   ]
  },
  {
   "cell_type": "markdown",
   "metadata": {},
   "source": [
    "* Python is High-level\n",
    "* Python is Interpreted\n",
    "* Python is Interactive\n",
    "* Python is Object-Oriented"
   ]
  },
  {
   "cell_type": "markdown",
   "metadata": {},
   "source": [
    "# Python Features"
   ]
  },
  {
   "cell_type": "markdown",
   "metadata": {},
   "source": [
    "* Easy-to-learn\n",
    "* Easy-to-read\n",
    "* Easy-to-maintain\n",
    "* A broad standard library\n",
    "* Interactive Mode\n",
    "* Portable\n",
    "* Extendable\n",
    "* Databases\n",
    "* GUI Programming\n",
    "* Scalable"
   ]
  },
  {
   "cell_type": "code",
   "execution_count": null,
   "metadata": {},
   "outputs": [],
   "source": [
    "$ python\n",
    "Python 2.7.5 (default, Aug  4 2017, 00:39:18) \n",
    "[GCC 4.8.5 20150623 (Red Hat 4.8.5-16)] on linux2\n",
    "Type \"help\", \"copyright\", \"credits\" or \"license\" for more information.\n",
    ">>> "
   ]
  },
  {
   "cell_type": "code",
   "execution_count": 1,
   "metadata": {},
   "outputs": [
    {
     "name": "stdout",
     "output_type": "stream",
     "text": [
      "Hello, Python!\n"
     ]
    }
   ],
   "source": [
    "print \"Hello, Python!\""
   ]
  },
  {
   "cell_type": "markdown",
   "metadata": {},
   "source": [
    "Let us create a script file named my_script.py, which has the following snippet"
   ]
  },
  {
   "cell_type": "code",
   "execution_count": null,
   "metadata": {},
   "outputs": [],
   "source": [
    "#!/usr/bin/python\n",
    "\n",
    "print \"Hello, Python!\""
   ]
  },
  {
   "cell_type": "markdown",
   "metadata": {},
   "source": [
    "We can run the script as follows"
   ]
  },
  {
   "cell_type": "markdown",
   "metadata": {},
   "source": [
    "$ python my_script.py<br>\n",
    "Hello, Python!"
   ]
  },
  {
   "cell_type": "markdown",
   "metadata": {},
   "source": [
    "And make the my_script.py executable"
   ]
  },
  {
   "cell_type": "code",
   "execution_count": null,
   "metadata": {},
   "outputs": [],
   "source": [
    "$ chmod +x test.py     # This is to make file executable\n",
    "$./test.py"
   ]
  },
  {
   "cell_type": "markdown",
   "metadata": {},
   "source": [
    "# Assuming that audiance has knowledge on"
   ]
  },
  {
   "cell_type": "markdown",
   "metadata": {},
   "source": [
    "* Python Identifiers\n",
    "* Reserved Words\n",
    "* Lines and Indentation\n",
    "* Multi-Line Statements\n",
    "* Quotation in Python\n",
    "* Comments in Python"
   ]
  },
  {
   "cell_type": "markdown",
   "metadata": {},
   "source": [
    "# Assignments"
   ]
  },
  {
   "cell_type": "code",
   "execution_count": null,
   "metadata": {},
   "outputs": [],
   "source": [
    "counter = 100          # An integer assignment\n",
    "miles   = 1000.0       # A floating point\n",
    "name    = \"John\"       # A string\n",
    "\n",
    "list()\n",
    "tuple()\n",
    "dict()\n",
    "\n",
    "set()\n",
    "#iterator\n",
    "#generator"
   ]
  },
  {
   "cell_type": "code",
   "execution_count": 8,
   "metadata": {},
   "outputs": [],
   "source": [
    "# Pre-Requisites\n",
    "from collections import namedtuple, OrderedDict, defaultdict\n",
    "from pprint import pprint as pp"
   ]
  },
  {
   "cell_type": "markdown",
   "metadata": {},
   "source": [
    "# How python understands the Scope and variables"
   ]
  },
  {
   "cell_type": "code",
   "execution_count": null,
   "metadata": {},
   "outputs": [],
   "source": [
    "globals()  # with variables\n",
    "locals()  # with variables\n",
    "\n",
    "# Explain __getitem__"
   ]
  },
  {
   "cell_type": "markdown",
   "metadata": {},
   "source": [
    "### Tricks on list"
   ]
  },
  {
   "cell_type": "code",
   "execution_count": 43,
   "metadata": {},
   "outputs": [
    {
     "name": "stdout",
     "output_type": "stream",
     "text": [
      "1\n",
      "2\n",
      "3\n",
      "2\n",
      "[1, 2, 3] 50668536\n",
      "[1, 2, 3] 39435944\n",
      "Whole: [1, 2, 3, 4, 5, 6, 7, 8, 9]\n",
      "items at Odd indices: [2, 4, 6, 8]\n",
      "items at Even indices: [1, 3, 5, 7, 9]\n"
     ]
    }
   ],
   "source": [
    "a = []  # using notation\n",
    "a = list()  # using in-built function, mainly we use for casting\n",
    "\n",
    "a, b = [1, 2]\n",
    "c, d = (3, 'fsdg')\n",
    "\n",
    "b = [1, 2, 3]\n",
    "print b[0]\n",
    "print b[1]\n",
    "print b[-1]  # Negative indices\n",
    "# print b[4]\n",
    "\n",
    "print b.__getitem__(1)\n",
    "\n",
    "# list slicing [INCLUSIVE:EXCLUSIVE]\n",
    "print b, id(b)\n",
    "b1 = b[:]\n",
    "print b1, id(b1)\n",
    "\n",
    "# Stepping and reversing\n",
    "# Stepping [::2]\n",
    "# reversing [::-1]\n",
    "# reversing stepping [::-2]\n",
    "\n",
    "# comphrehension\n",
    "c = [e for e in range(1, 10)]\n",
    "print 'Whole:', c\n",
    "print 'items at Odd indices:', [e for idx, e in enumerate(c) if idx % 2]\n",
    "print 'items at Even indices:', [e for idx, e in enumerate(c) if not idx % 2]"
   ]
  },
  {
   "cell_type": "markdown",
   "metadata": {},
   "source": [
    "### Tricks on tuple"
   ]
  },
  {
   "cell_type": "code",
   "execution_count": 51,
   "metadata": {
    "scrolled": true
   },
   "outputs": [
    {
     "name": "stdout",
     "output_type": "stream",
     "text": [
      "1\n",
      "2\n",
      "3\n",
      "2\n",
      "(1, 2, 3) 43988544\n",
      "(1, 2, 3) 43988544\n",
      "NamedTupleClass(attr1=100, attr2=300)\n",
      "[NamedTupleClass(attr1=0, attr2=0),\n",
      " NamedTupleClass(attr1=1, attr2=1),\n",
      " NamedTupleClass(attr1=2, attr2=4),\n",
      " NamedTupleClass(attr1=3, attr2=9),\n",
      " NamedTupleClass(attr1=4, attr2=16),\n",
      " NamedTupleClass(attr1=5, attr2=25),\n",
      " NamedTupleClass(attr1=6, attr2=36),\n",
      " NamedTupleClass(attr1=7, attr2=49),\n",
      " NamedTupleClass(attr1=8, attr2=64),\n",
      " NamedTupleClass(attr1=9, attr2=81)]\n"
     ]
    }
   ],
   "source": [
    "a = ()  # using notation\n",
    "a = tuple()  # using in-built function, mainly we use for casting\n",
    "\n",
    "b = (1, 2, 3, )\n",
    "print b[0]\n",
    "print b[1]\n",
    "print b[-1]  # Negative indices\n",
    "# print b[4]\n",
    "\n",
    "print b.__getitem__(1)\n",
    "\n",
    "# list slicing [INCLUSIVE:EXCLUSIVE]\n",
    "print b, id(b)\n",
    "b1 = b[:]\n",
    "print b1, id(b1)\n",
    "\n",
    "# Stepping and reversing\n",
    "# Stepping [::2]\n",
    "# reversing [::-1]\n",
    "# reversing stepping [::-2]\n",
    "\n",
    "# comphrehension - Not possible will never output as tuple\n",
    "\n",
    "from collections import namedtuple\n",
    "\n",
    "NamedTupleClass = namedtuple('NamedTupleClass', 'attr1, attr2')\n",
    "\n",
    "ntc_obj_1 = NamedTupleClass(attr1=100, attr2=300)\n",
    "\n",
    "print ntc_obj_1\n",
    "\n",
    "n_c = list()\n",
    "for attr1, attr2 in enumerate(range(10)):\n",
    "    n_c.append(NamedTupleClass(attr1=attr1, attr2=attr2 * attr2))\n",
    "\n",
    "pp(n_c)"
   ]
  },
  {
   "cell_type": "markdown",
   "metadata": {},
   "source": [
    "### Tricks on str"
   ]
  },
  {
   "cell_type": "code",
   "execution_count": 12,
   "metadata": {},
   "outputs": [
    {
     "name": "stdout",
     "output_type": "stream",
     "text": [
      "some string\n",
      "m\n",
      "me st\n",
      "Hello Mr.John\n",
      "Hello Mr.John\n",
      "I'm john, from Paris\n",
      "Hello Adam, your balance is 230.2346.\n",
      "Hello Adam, your balance is 230.2346.\n",
      "Hello Adam, your balance is 230.2346.\n",
      "Hello Adam, your balance is 230.2346.\n",
      "   12\n",
      "1234\n",
      "  12.235\n",
      "00012\n",
      "0012.235\n",
      "Adam's age is: 23\n"
     ]
    }
   ],
   "source": [
    "#string format\n",
    "\n",
    "s = 'some string'\n",
    "print s\n",
    "print s[2]\n",
    "print s[2:7]\n",
    "\n",
    "#s[2] = 'a'\n",
    "\n",
    "s1 = \"Hello Mr.John\"\n",
    "print s1\n",
    "\n",
    "s2 = \"Hello Mr.{}\"\n",
    "print s2.format(\"John\")\n",
    "\n",
    "s3 = \"I'm {1}, from {0}\"\n",
    "print s3.format(\"Paris\", \"john\")\n",
    "\n",
    "# default arguments\n",
    "print(\"Hello {}, your balance is {}.\".format(\"Adam\", 230.2346))\n",
    "\n",
    "# positional arguments\n",
    "print(\"Hello {0}, your balance is {1}.\".format(\"Adam\", 230.2346))\n",
    "\n",
    "# keyword arguments\n",
    "print(\"Hello {name}, your balance is {blc}.\".format(name=\"Adam\", blc=230.2346))\n",
    "\n",
    "# mixed arguments\n",
    "print(\"Hello {0}, your balance is {blc}.\".format(\"Adam\", blc=230.2346))\n",
    "\n",
    "# integer numbers with minimum width\n",
    "print(\"{:5d}\".format(12))\n",
    "\n",
    "# width doesn't work for numbers longer than padding\n",
    "print(\"{:2d}\".format(1234))\n",
    "\n",
    "# padding for float numbers\n",
    "print(\"{:8.3f}\".format(12.2346))\n",
    "\n",
    "# integer numbers with minimum width filled with zeros\n",
    "print(\"{:05d}\".format(12))\n",
    "\n",
    "# padding for float numbers filled with zeros\n",
    "print(\"{:08.3f}\".format(12.2346))\n",
    "\n",
    "# define Person class\n",
    "class Person:\n",
    "    age = 23\n",
    "    name = \"Adam\"\n",
    "\n",
    "# format age\n",
    "print(\"{p.name}'s age is: {p.age}\".format(p=Person()))"
   ]
  },
  {
   "cell_type": "markdown",
   "metadata": {},
   "source": [
    "### Tricks on Dict"
   ]
  },
  {
   "cell_type": "code",
   "execution_count": 44,
   "metadata": {},
   "outputs": [
    {
     "name": "stdout",
     "output_type": "stream",
     "text": [
      "{'a': 100, 'b': 200}\n",
      "{'a': 100, 'b': 200}\n",
      "['a', 'b']\n",
      "[100, 200]\n",
      "{'a': 100, 'c': 300, 'b': 200}\n",
      "{'a': 101, 'c': 300, 'b': 200}\n",
      "{}\n",
      "{}\n",
      "101\n",
      "No Such key exist\n",
      "100\n",
      "[]\n",
      "defaultdict(<function <lambda> at 0x314ef50>, {'a': 101, 'c': 300, 'b': 200})\n",
      "I'm default\n",
      "OrderedDict([('a', 100), ('1', 100), ('01', 100), ('#', 100), ('-', 100)])\n",
      "True\n",
      "a\n",
      "2\n",
      "c\n",
      "b\n",
      "('a', 101)\n",
      "('2', \"I'm default\")\n",
      "('c', 300)\n",
      "('b', 200)\n",
      "a --> 101\n",
      "2 --> I'm default\n",
      "c --> 300\n",
      "b --> 200\n"
     ]
    }
   ],
   "source": [
    "d = {} or dict()\n",
    "\n",
    "d= {\n",
    "    'a': 100,\n",
    "    'b': 200\n",
    "}\n",
    "print d\n",
    "\n",
    "d = dict(a=100, b=200)\n",
    "print d\n",
    "\n",
    "print d.keys()\n",
    "print d.values()\n",
    "\n",
    "d.update({'c': 300})\n",
    "print d\n",
    "\n",
    "d.update({'a': 101})\n",
    "print d\n",
    "\n",
    "d1 = d\n",
    "from copy import deepcopy\n",
    "d2 = deepcopy(d)\n",
    "\n",
    "d.clear()\n",
    "print d\n",
    "print d1\n",
    "\n",
    "print d2['a']\n",
    "#print d2['f']\n",
    "\n",
    "print d2.get('f', 'No Such key exist')\n",
    "\n",
    "from collections import defaultdict\n",
    "\n",
    "_d = [('a', 100), ('b', 200)]\n",
    "d3 = defaultdict(list, _d)\n",
    "\n",
    "print d3['a']\n",
    "print d3['asdf']\n",
    "\n",
    "def defaults():\n",
    "    return 'Key Does not Exist'\n",
    "\n",
    "d4 = defaultdict(lambda: \"I'm default\", d2)\n",
    "\n",
    "print d4\n",
    "print d4['2']\n",
    "\n",
    "from collections import OrderedDict\n",
    "d5 = OrderedDict()\n",
    "\n",
    "d5['a'] = 100\n",
    "d5['1'] = 100\n",
    "d5['01'] = 100\n",
    "d5['#'] = 100\n",
    "d5['-'] = 100\n",
    "\n",
    "print d5\n",
    "\n",
    "print '#' in d5\n",
    "\n",
    "for key in d4:\n",
    "    print key\n",
    "    \n",
    "for each_item in d4.items():\n",
    "    print each_item\n",
    "\n",
    "for key, value in d4.items():\n",
    "    print key, '-->', value"
   ]
  },
  {
   "cell_type": "markdown",
   "metadata": {},
   "source": [
    "### Control Statements"
   ]
  },
  {
   "cell_type": "code",
   "execution_count": 20,
   "metadata": {},
   "outputs": [
    {
     "name": "stdout",
     "output_type": "stream",
     "text": [
      "YES\n",
      "['ODD', 'EVEN', 'ODD', 'EVEN', 'ODD', 'EVEN', 'ODD', 'EVEN', 'ODD']\n",
      "[0, 1, 2, 3, 4, 5, 6, 7, 8, 9]\n",
      "[1, 2, 3, 4, 5, 6, 7, 8, 9]\n",
      "[2, 3, 4, 5, 6, 7, 8, 9]\n",
      "[3, 4, 5, 6, 7, 8, 9]\n",
      "[4, 5, 6, 7, 8, 9]\n",
      "[5, 6, 7, 8, 9]\n",
      "[6, 7, 8, 9]\n",
      "[7, 8, 9]\n",
      "[8, 9]\n",
      "[9]\n",
      "EXHAUSTED\n"
     ]
    }
   ],
   "source": [
    "# in-line if statements\n",
    "print 'YES' if True else 'NO'\n",
    "\n",
    "print ['ODD' if item % 2 else 'EVEN' for item in range(1, 10)]\n",
    "\n",
    "# pass, break and continue statements\n",
    "\n",
    "# Looping structures with else clause\n",
    "t = range(10)\n",
    "while t:\n",
    "    print t\n",
    "    t = t[1:]\n",
    "    #if len(t) == 1:\n",
    "    #    break\n",
    "else:\n",
    "    print 'EXHAUSTED'"
   ]
  },
  {
   "cell_type": "code",
   "execution_count": null,
   "metadata": {},
   "outputs": [],
   "source": [
    "# literally everything in python is an object"
   ]
  },
  {
   "cell_type": "code",
   "execution_count": 32,
   "metadata": {},
   "outputs": [
    {
     "name": "stdout",
     "output_type": "stream",
     "text": [
      "<type 'module'>\n",
      "<type 'type'>\n",
      "<type 'type'>\n",
      "['__class__', '__delattr__', '__dict__', '__doc__', '__format__', '__getattribute__', '__hash__', '__init__', '__module__', '__new__', '__reduce__', '__reduce_ex__', '__repr__', '__setattr__', '__sizeof__', '__str__', '__subclasshook__', '__weakref__', 'attr', 'method1']\n",
      "<class '__main__.Test'>\n",
      "<type 'type'>\n",
      "I'm class attribute\n",
      "from method2\n"
     ]
    }
   ],
   "source": [
    "# Classes and Dynamic Classes\n",
    "\n",
    "import os\n",
    "print type(os)\n",
    "print type(type(os))\n",
    "print type(type(type(os)))\n",
    "\n",
    "class Test(object):\n",
    "    attr = 'class attribute'\n",
    "    def method1(self):\n",
    "        return 'from method1'\n",
    "    \n",
    "obj = Test()\n",
    "print dir(obj)\n",
    "\n",
    "print type(obj)\n",
    "print type(type(obj))\n",
    "\n",
    "DynamicTest  = type(\n",
    "    'DynamicTest',\n",
    "    (object, ),\n",
    "    {'attr1': \"I'm class attribute\", 'method2': lambda self: 'from method2'}\n",
    ")\n",
    "obj2 = DynamicTest()\n",
    "\n",
    "print obj2.attr1\n",
    "print obj2.method2()"
   ]
  },
  {
   "cell_type": "code",
   "execution_count": 16,
   "metadata": {},
   "outputs": [
    {
     "name": "stdout",
     "output_type": "stream",
     "text": [
      "['_Test__private', '__class__', '__delattr__', '__dict__', '__doc__', '__format__', '__getattribute__', '__hash__', '__init__', '__module__', '__new__', '__reduce__', '__reduce_ex__', '__repr__', '__setattr__', '__sizeof__', '__str__', '__subclasshook__', '__weakref__']\n",
      "I'm private\n"
     ]
    }
   ],
   "source": [
    "# Private Attributes\n",
    "class Test(object):                                \n",
    "    def __private(self):                           \n",
    "        return \"I'm private\" \n",
    "\n",
    "ob = Test()\n",
    "\n",
    "print dir(ob)\n",
    "print ob._Test__private()"
   ]
  },
  {
   "cell_type": "code",
   "execution_count": null,
   "metadata": {},
   "outputs": [],
   "source": [
    "# Monkey Patching"
   ]
  },
  {
   "cell_type": "code",
   "execution_count": null,
   "metadata": {},
   "outputs": [],
   "source": [
    "# Magic Methods"
   ]
  },
  {
   "cell_type": "code",
   "execution_count": null,
   "metadata": {},
   "outputs": [],
   "source": [
    "# TIP: method arguments do's and do not's"
   ]
  },
  {
   "cell_type": "code",
   "execution_count": 15,
   "metadata": {},
   "outputs": [
    {
     "name": "stdout",
     "output_type": "stream",
     "text": [
      "Vertex(3, 3)\n",
      "Vertex(16, 16)\n"
     ]
    }
   ],
   "source": [
    "# Add objects using magic methods\n",
    "class Vertex(object):\n",
    "    def __init__(self, x, y):\n",
    "        self.x = x\n",
    "        self.y = y\n",
    "        \n",
    "    def __str__(self):\n",
    "        return \"Vertex({}, {})\".format(self.x, self.y)\n",
    "\n",
    "    def __add__(self, obj):\n",
    "        return Vertex(self.x + obj.x, self.y + obj.y)\n",
    "\n",
    "\n",
    "obj1 = Vertex(1, 1)\n",
    "obj2 = Vertex(2, 2)\n",
    "obj3 = Vertex(3, 3)\n",
    "obj4 = Vertex(4, 4)\n",
    "obj5 = Vertex(5, 5)\n",
    "\n",
    "print obj1.__add__(obj2)\n",
    "\n",
    "res = None\n",
    "for obj in [obj1, obj2, obj3, obj4, obj5]:\n",
    "    if not res:\n",
    "        res = obj\n",
    "    res = res.__add__(obj)\n",
    "    \n",
    "print res"
   ]
  },
  {
   "cell_type": "code",
   "execution_count": 1,
   "metadata": {},
   "outputs": [
    {
     "name": "stdout",
     "output_type": "stream",
     "text": [
      "3\n"
     ]
    }
   ],
   "source": [
    "# Annonymous (lambda) Functions\n",
    "# lambda [arg1 [,arg2,.....argn]]:expression\n",
    "_func = lambda x, y: x + y\n",
    "\n",
    "print _func(1, 2)"
   ]
  },
  {
   "cell_type": "code",
   "execution_count": 13,
   "metadata": {},
   "outputs": [
    {
     "name": "stdout",
     "output_type": "stream",
     "text": [
      "[0, 1, 2, 3, 4, 5, 6, 7, 8, 9]\n",
      "[1, 3, 5, 7, 9]\n",
      "[[2, 4, 6], [8, 10, 12], [14, 16, 18]]\n",
      "<generator object <genexpr> at 0x238cf00>\n",
      "set([0, 1, 2, 3, 4, 5, 6, 7, 8, 9])\n",
      "{0: 0, 1: 2, 2: 4, 3: 6, 4: 8, 5: 10, 6: 12, 7: 14, 8: 16, 9: 18}\n"
     ]
    }
   ],
   "source": [
    "# List Comphrehension\n",
    "print [e for e in range(10)]\n",
    "\n",
    "print [e for e in range(10) if e % 2]\n",
    "\n",
    "nested_list = [[1, 2, 3], [4, 5, 6], [7, 8, 9]]\n",
    "\n",
    "print [[f * 2 for f in e] for e in nested_list]\n",
    "\n",
    "print (e for e in range(10))\n",
    "\n",
    "print {e for e in range(10)}\n",
    "\n",
    "print {e: e * 2 for e in range(10)}"
   ]
  },
  {
   "cell_type": "code",
   "execution_count": 10,
   "metadata": {},
   "outputs": [
    {
     "name": "stdout",
     "output_type": "stream",
     "text": [
      "[0, 1, 2, 3, 4, 5, 6, 7, 8, 9]\n",
      "[0, 1, 2, 3, 4, 5, 6, 7, 8]\n",
      "[1, 3, 5, 7, 9]\n"
     ]
    }
   ],
   "source": [
    "# Generators\n",
    "def my_generator(iterable):                                    \n",
    "    while iterable:                                            \n",
    "        yield iterable.pop(0)                                  \n",
    "                                                               \n",
    "print [e for e in range(10)]\n",
    "\n",
    "# Iterators\n",
    "class MyCustomIter(object):                                    \n",
    "    def __init__(self, iterable, step=1):                      \n",
    "        self.iterable = iterable                               \n",
    "        self.step = step\n",
    "    def __iter__(self):                                        \n",
    "        return self                                            \n",
    "\n",
    "    def next(self):                                            \n",
    "        while self.iterable and len(self.iterable) >= 2:\n",
    "            recent = None\n",
    "            for _ in range(self.step):\n",
    "                recent = self.iterable.pop(0)                           \n",
    "            return recent                        \n",
    "        raise StopIteration                                    \n",
    "                                                               \n",
    "                                                               \n",
    "print [e for e in MyCustomIter(list(range(10)), step=1)]\n",
    "print [e for e in MyCustomIter(list(range(10)), step=2)]"
   ]
  },
  {
   "cell_type": "code",
   "execution_count": 18,
   "metadata": {},
   "outputs": [
    {
     "name": "stdout",
     "output_type": "stream",
     "text": [
      "Pre Processing\n",
      "Actual processing\n",
      "Post Processing\n"
     ]
    }
   ],
   "source": [
    "# with keyword\n",
    "class Test():\n",
    "    def __init__(self):\n",
    "        pass\n",
    "    \n",
    "    def __enter__(self):\n",
    "        print 'Pre Processing'\n",
    "        return self.process()\n",
    "    \n",
    "    def process(self):\n",
    "        print 'Actual processing'\n",
    "\n",
    "    def __exit__(self, type, value, traceback):\n",
    "        print 'Post Processing'\n",
    "        \n",
    "with Test() as obj:\n",
    "    pass"
   ]
  },
  {
   "cell_type": "code",
   "execution_count": null,
   "metadata": {},
   "outputs": [],
   "source": [
    "# Function Decorators"
   ]
  },
  {
   "cell_type": "code",
   "execution_count": null,
   "metadata": {},
   "outputs": [],
   "source": [
    "# Class Decorators"
   ]
  },
  {
   "cell_type": "code",
   "execution_count": null,
   "metadata": {},
   "outputs": [],
   "source": [
    "# Decorator Internals with staticmethod and classmethod"
   ]
  },
  {
   "cell_type": "code",
   "execution_count": null,
   "metadata": {},
   "outputs": [],
   "source": [
    "# Properties"
   ]
  },
  {
   "cell_type": "code",
   "execution_count": null,
   "metadata": {},
   "outputs": [],
   "source": [
    "# Descriptors\n"
   ]
  },
  {
   "cell_type": "code",
   "execution_count": 58,
   "metadata": {},
   "outputs": [
    {
     "ename": "NotImplementedError",
     "evalue": "",
     "output_type": "error",
     "traceback": [
      "\u001b[0;31m\u001b[0m",
      "\u001b[0;31mNotImplementedError\u001b[0mTraceback (most recent call last)",
      "\u001b[0;32m<ipython-input-58-9fc6b4f4070c>\u001b[0m in \u001b[0;36m<module>\u001b[0;34m()\u001b[0m\n\u001b[1;32m      1\u001b[0m \u001b[0;32mtry\u001b[0m\u001b[0;34m:\u001b[0m\u001b[0;34m\u001b[0m\u001b[0m\n\u001b[0;32m----> 2\u001b[0;31m     \u001b[0;32mraise\u001b[0m \u001b[0mNotImplementedError\u001b[0m\u001b[0;34m\u001b[0m\u001b[0m\n\u001b[0m\u001b[1;32m      3\u001b[0m \u001b[0;32mexcept\u001b[0m\u001b[0;34m:\u001b[0m\u001b[0;34m\u001b[0m\u001b[0m\n\u001b[1;32m      4\u001b[0m     \u001b[0;32mraise\u001b[0m\u001b[0;34m\u001b[0m\u001b[0m\n\u001b[1;32m      5\u001b[0m \u001b[0;32melse\u001b[0m\u001b[0;34m:\u001b[0m\u001b[0;34m\u001b[0m\u001b[0m\n",
      "\u001b[0;31mNotImplementedError\u001b[0m: "
     ]
    }
   ],
   "source": [
    "# Error Handling\n",
    "\n",
    "try:\n",
    "    raise NotImplementedError\n",
    "except:\n",
    "    raise\n",
    "else:\n",
    "    pass\n",
    "finally:\n",
    "    pass"
   ]
  },
  {
   "cell_type": "code",
   "execution_count": null,
   "metadata": {},
   "outputs": [],
   "source": [
    "With class\n",
    "Python Meta-programming\n",
    "\n",
    "10) Parameters Passing in function(by value or by reference ?)"
   ]
  }
 ],
 "metadata": {
  "kernelspec": {
   "display_name": "Python 2",
   "language": "python",
   "name": "python2"
  },
  "language_info": {
   "codemirror_mode": {
    "name": "ipython",
    "version": 2
   },
   "file_extension": ".py",
   "mimetype": "text/x-python",
   "name": "python",
   "nbconvert_exporter": "python",
   "pygments_lexer": "ipython2",
   "version": "2.7.5"
  }
 },
 "nbformat": 4,
 "nbformat_minor": 2
}
