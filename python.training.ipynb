{
 "cells": [
  {
   "cell_type": "markdown",
   "metadata": {},
   "source": [
    "# Python - Overview"
   ]
  },
  {
   "cell_type": "markdown",
   "metadata": {},
   "source": [
    "* Python is High-level\n",
    "* Python is Interpreted\n",
    "* Python is Interactive\n",
    "* Python is Object-Oriented"
   ]
  },
  {
   "cell_type": "markdown",
   "metadata": {},
   "source": [
    "# Python Features"
   ]
  },
  {
   "cell_type": "markdown",
   "metadata": {},
   "source": [
    "* Easy-to-learn\n",
    "* Easy-to-read\n",
    "* Easy-to-maintain\n",
    "* A broad standard library\n",
    "* Interactive Mode\n",
    "* Portable\n",
    "* Extendable\n",
    "* Databases\n",
    "* GUI Programming\n",
    "* Scalable"
   ]
  },
  {
   "cell_type": "code",
   "execution_count": null,
   "metadata": {},
   "outputs": [],
   "source": [
    "$ python\n",
    "Python 2.7.5 (default, Aug  4 2017, 00:39:18) \n",
    "[GCC 4.8.5 20150623 (Red Hat 4.8.5-16)] on linux2\n",
    "Type \"help\", \"copyright\", \"credits\" or \"license\" for more information.\n",
    ">>> "
   ]
  },
  {
   "cell_type": "code",
   "execution_count": 1,
   "metadata": {},
   "outputs": [
    {
     "name": "stdout",
     "output_type": "stream",
     "text": [
      "Hello, Python!\n"
     ]
    }
   ],
   "source": [
    "print \"Hello, Python!\""
   ]
  },
  {
   "cell_type": "markdown",
   "metadata": {},
   "source": [
    "Let us create a script file named my_script.py, which has the following snippet"
   ]
  },
  {
   "cell_type": "code",
   "execution_count": null,
   "metadata": {},
   "outputs": [],
   "source": [
    "#!/usr/bin/python\n",
    "\n",
    "print \"Hello, Python!\""
   ]
  },
  {
   "cell_type": "markdown",
   "metadata": {},
   "source": [
    "We can run the script as follows"
   ]
  },
  {
   "cell_type": "markdown",
   "metadata": {},
   "source": [
    "$ python my_script.py<br>\n",
    "Hello, Python!"
   ]
  },
  {
   "cell_type": "markdown",
   "metadata": {},
   "source": [
    "And make the my_script.py executable"
   ]
  },
  {
   "cell_type": "code",
   "execution_count": null,
   "metadata": {},
   "outputs": [],
   "source": [
    "$ chmod +x test.py     # This is to make file executable\n",
    "$./test.py"
   ]
  },
  {
   "cell_type": "markdown",
   "metadata": {},
   "source": [
    "# Assuming that audiance has knowledge on"
   ]
  },
  {
   "cell_type": "markdown",
   "metadata": {},
   "source": [
    "* Python Identifiers\n",
    "* Reserved Words\n",
    "* Lines and Indentation\n",
    "* Multi-Line Statements\n",
    "* Quotation in Python\n",
    "* Comments in Python"
   ]
  },
  {
   "cell_type": "markdown",
   "metadata": {},
   "source": [
    "# Assignments"
   ]
  },
  {
   "cell_type": "code",
   "execution_count": null,
   "metadata": {},
   "outputs": [],
   "source": [
    "counter = 100          # An integer assignment\n",
    "miles   = 1000.0       # A floating point\n",
    "name    = \"John\"       # A string\n",
    "\n",
    "list()\n",
    "tuple()\n",
    "dict()\n",
    "\n",
    "set()\n",
    "iterator\n",
    "generator"
   ]
  },
  {
   "cell_type": "markdown",
   "metadata": {},
   "source": [
    "# How python understands the Scope and variables"
   ]
  },
  {
   "cell_type": "code",
   "execution_count": null,
   "metadata": {},
   "outputs": [],
   "source": [
    "globals()  # with variables\n",
    "locals()  # with variables"
   ]
  },
  {
   "cell_type": "markdown",
   "metadata": {},
   "source": [
    "### Tricks on list"
   ]
  },
  {
   "cell_type": "code",
   "execution_count": 15,
   "metadata": {},
   "outputs": [
    {
     "name": "stdout",
     "output_type": "stream",
     "text": [
      "1\n",
      "2\n",
      "3\n",
      "2\n",
      "[1, 2, 3] 44087128\n",
      "[1, 2, 3] 41535608\n",
      "Whole: [1, 2, 3, 4, 5, 6, 7, 8, 9]\n",
      "items at Odd indices: [2, 4, 6, 8]\n",
      "items at Even indices: [1, 3, 5, 7, 9]\n"
     ]
    }
   ],
   "source": [
    "a = []  # using notation\n",
    "a = list()  # using in-built function, mainly we use for casting\n",
    "\n",
    "b = [1, 2, 3]\n",
    "print b[0]\n",
    "print b[1]\n",
    "print b[-1]  # Negative indices\n",
    "# print b[4]\n",
    "\n",
    "print b.__getitem__(1)\n",
    "\n",
    "# list slicing [INCLUSIVE:EXCLUSIVE]\n",
    "print b, id(b)\n",
    "b1 = b[:]\n",
    "print b1, id(b1)\n",
    "\n",
    "# Stepping and reversing\n",
    "# Stepping [::2]\n",
    "# reversing [::-1]\n",
    "# reversing stepping [::-2]\n",
    "\n",
    "# comphrehension\n",
    "c = [e for e in range(1, 10)]\n",
    "print 'Whole:', c\n",
    "print 'items at Odd indices:', [e for idx, e in enumerate(c) if idx % 2]\n",
    "print 'items at Even indices:', [e for idx, e in enumerate(c) if not idx % 2]"
   ]
  },
  {
   "cell_type": "markdown",
   "metadata": {},
   "source": [
    "### Tricks on tuple"
   ]
  },
  {
   "cell_type": "code",
   "execution_count": null,
   "metadata": {},
   "outputs": [],
   "source": [
    "a = ()  # using notation\n",
    "a = tuple()  # using in-built function, mainly we use for casting\n",
    "\n",
    "b = (1, 2, 3, )\n",
    "print b[0]\n",
    "print b[1]\n",
    "print b[-1]  # Negative indices\n",
    "# print b[4]\n",
    "\n",
    "print b.__getitem__(1)\n",
    "\n",
    "# list slicing [INCLUSIVE:EXCLUSIVE]\n",
    "print b, id(b)\n",
    "b1 = b[:]\n",
    "print b1, id(b1)\n",
    "\n",
    "# Stepping and reversing\n",
    "# Stepping [::2]\n",
    "# reversing [::-1]\n",
    "# reversing stepping [::-2]\n",
    "\n",
    "# comphrehension - Not possible will never output as tuple"
   ]
  }
 ],
 "metadata": {
  "kernelspec": {
   "display_name": "Python 2",
   "language": "python",
   "name": "python2"
  },
  "language_info": {
   "codemirror_mode": {
    "name": "ipython",
    "version": 2
   },
   "file_extension": ".py",
   "mimetype": "text/x-python",
   "name": "python",
   "nbconvert_exporter": "python",
   "pygments_lexer": "ipython2",
   "version": "2.7.5"
  }
 },
 "nbformat": 4,
 "nbformat_minor": 2
}
